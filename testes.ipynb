{
 "cells": [
  {
   "cell_type": "code",
   "execution_count": 2,
   "id": "a2672ebd",
   "metadata": {},
   "outputs": [
    {
     "name": "stderr",
     "output_type": "stream",
     "text": [
      "[*********************100%***********************]  86 of 86 completed\n",
      "\n",
      "9 Failed downloads:\n",
      "['JBSS3.SA', 'SOMA3.SA', 'RRRP3.SA', 'TRPL4.SA', 'CIEL3.SA', 'ARZZ3.SA', 'NTCO3.SA', 'CCRO3.SA', 'CRFB3.SA']: YFTzMissingError('possibly delisted; no timezone found')\n"
     ]
    },
    {
     "name": "stdout",
     "output_type": "stream",
     "text": [
      "Ticker       ABEV3.SA   ALOS3.SA  ALPA4.SA  ARZZ3.SA   ASAI3.SA   AZUL4.SA  \\\n",
      "Date                                                                         \n",
      "2010-01-04   3.217403        NaN  2.368381       NaN        NaN        NaN   \n",
      "2010-01-05   3.236330        NaN  2.376618       NaN        NaN        NaN   \n",
      "2010-01-06   3.269344        NaN  2.370441       NaN        NaN        NaN   \n",
      "2010-01-07   3.284695        NaN  2.395154       NaN        NaN        NaN   \n",
      "2010-01-08   3.278386        NaN  2.419867       NaN        NaN        NaN   \n",
      "...               ...        ...       ...       ...        ...        ...   \n",
      "2023-12-21  12.487749  23.884296  8.980078       NaN  13.003792  16.410000   \n",
      "2023-12-22  12.496864  23.704718  9.344002       NaN  13.170759  16.299999   \n",
      "2023-12-26  12.551556  23.911234  9.589897       NaN  13.131473  16.260000   \n",
      "2023-12-27  12.615360  23.938169  9.953821       NaN  13.239510  16.570000   \n",
      "2023-12-28  12.515094  23.839403  9.953821       NaN  13.288618  16.010000   \n",
      "\n",
      "Ticker       B3SA3.SA   BBAS3.SA   BBDC3.SA   BBDC4.SA  ...  TRPL4.SA  \\\n",
      "Date                                                    ...             \n",
      "2010-01-04   7.346881   5.064789   4.277263   6.498366  ...       NaN   \n",
      "2010-01-05   7.375249   5.013973   4.218350   6.466389  ...       NaN   \n",
      "2010-01-06   7.653237   5.020746   4.193501   6.414655  ...       NaN   \n",
      "2010-01-07   7.834782   5.022443   4.183844   6.397414  ...       NaN   \n",
      "2010-01-08   7.653237   5.051237   4.189362   6.390514  ...       NaN   \n",
      "...               ...        ...        ...        ...  ...       ...   \n",
      "2023-12-21  13.701674  24.019739  12.680467  14.228714  ...       NaN   \n",
      "2023-12-22  13.720588  24.086103  12.865379  14.442337  ...       NaN   \n",
      "2023-12-26  13.862424  24.307322  12.916667  14.485244  ...       NaN   \n",
      "2023-12-27  13.786778  24.271927  13.010700  14.571057  ...       NaN   \n",
      "2023-12-28  13.758410  24.506414  13.061989  14.665448  ...       NaN   \n",
      "\n",
      "Ticker       UGPA3.SA   USIM5.SA   VALE3.SA  VAMO3.SA   VBBR3.SA   VIVA3.SA  \\\n",
      "Date                                                                          \n",
      "2010-01-04   2.073262  19.329048  21.146954       NaN        NaN        NaN   \n",
      "2010-01-05   2.073262  19.385899  21.344086       NaN        NaN        NaN   \n",
      "2010-01-06   2.073262  19.366945  21.795868       NaN        NaN        NaN   \n",
      "2010-01-07   2.073262  19.548874  21.886223       NaN        NaN        NaN   \n",
      "2010-01-08   2.073262  19.272202  22.099779       NaN        NaN        NaN   \n",
      "...               ...        ...        ...       ...        ...        ...   \n",
      "2023-12-21  24.484482   8.825604  65.504242  9.336411  19.510139  32.015141   \n",
      "2023-12-22  24.521776   8.970603  65.010643  9.279190  19.649809  32.214935   \n",
      "2023-12-26  24.587044   9.009270  65.240425  9.345947  19.866358  32.252991   \n",
      "2023-12-27  24.633661   9.028604  65.870201  9.488997  20.230797  32.433762   \n",
      "2023-12-28  24.717579   8.980270  65.699982  9.603437  20.230797  32.585987   \n",
      "\n",
      "Ticker       VIVT3.SA   WEGE3.SA   YDUQ3.SA  \n",
      "Date                                         \n",
      "2010-01-04   5.416082   1.987660   5.319603  \n",
      "2010-01-05   5.396010   1.983323   5.383324  \n",
      "2010-01-06   5.304261   1.994167   5.471214  \n",
      "2010-01-07   5.304261   2.027782   5.383324  \n",
      "2010-01-08   5.299963   2.101520   5.383324  \n",
      "...               ...        ...        ...  \n",
      "2023-12-21  23.695404  35.112759  21.636997  \n",
      "2023-12-22  23.864656  35.228539  21.032825  \n",
      "2023-12-26  23.984919  35.431175  21.146107  \n",
      "2023-12-27  24.166750  35.546963  21.552036  \n",
      "2023-12-28  24.031839  35.614506  21.164986  \n",
      "\n",
      "[3473 rows x 86 columns]\n"
     ]
    }
   ],
   "source": [
    "import streamlit as st\n",
    "import pandas as pd\n",
    "import yfinance as yf\n",
    "import datetime as dt\n",
    "\n",
    "#criar funções de carregamento de dados\n",
    "\n",
    "def carregar_dados(empresas):\n",
    "    texto_stickers =  \" \".join(empresas) \n",
    "    dados_acao = yf.Tickers(texto_stickers)\n",
    "    cotacoes_acao = dados_acao.history(period=\"14y\", start=\"2010-01-01\")\n",
    "    cotacoes_acao = cotacoes_acao[\"Close\"]\n",
    "    return cotacoes_acao\n",
    "\n",
    "\n",
    "def carregar_tickers_acoes():\n",
    "    base_tickers = pd.read_csv(\"IBOV.csv\", sep=\";\")\n",
    "    tickers = list(base_tickers[\"Código\"])\n",
    "    tickers = [item + \".SA\" for item in tickers] # pra cada item dentro tickers, seja armazenado com .SA\n",
    "    return tickers\n",
    "\n",
    "acoes = carregar_tickers_acoes()    \n",
    "dados = carregar_dados(acoes)  \n",
    "   \n",
    "\n",
    "# \"ITUB4.SA\" pega o codigo do banco \"ticker\". Para o brasil, \"CÓD + SA\"=bolsa de sao paulo.  \n",
    "# cotacao das ações ao longo de 2010 a 2024\n",
    "print(dados)"
   ]
  }
 ],
 "metadata": {
  "kernelspec": {
   "display_name": "teste-streamlit-py3.13",
   "language": "python",
   "name": "python3"
  },
  "language_info": {
   "codemirror_mode": {
    "name": "ipython",
    "version": 3
   },
   "file_extension": ".py",
   "mimetype": "text/x-python",
   "name": "python",
   "nbconvert_exporter": "python",
   "pygments_lexer": "ipython3",
   "version": "3.13.5"
  }
 },
 "nbformat": 4,
 "nbformat_minor": 5
}
